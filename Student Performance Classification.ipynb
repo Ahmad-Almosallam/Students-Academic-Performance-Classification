{
  "nbformat": 4,
  "nbformat_minor": 0,
  "metadata": {
    "colab": {
      "name": "Copy of Welcome To Colaboratory",
      "provenance": [],
      "collapsed_sections": [],
      "toc_visible": true
    },
    "kernelspec": {
      "display_name": "Python 3",
      "name": "python3"
    }
  },
  "cells": [
    {
      "cell_type": "markdown",
      "metadata": {
        "id": "-oB6SDZr8sFE"
      },
      "source": [
        "First import the necessary libraries"
      ]
    },
    {
      "cell_type": "code",
      "metadata": {
        "id": "EsYhTik99JxU"
      },
      "source": [
        "import pandas as pd\r\n",
        "import numpy as np"
      ],
      "execution_count": 306,
      "outputs": []
    },
    {
      "cell_type": "markdown",
      "metadata": {
        "id": "27sN1GWk9UMp"
      },
      "source": [
        "Now upload the save the dataset into variable"
      ]
    },
    {
      "cell_type": "code",
      "metadata": {
        "colab": {
          "base_uri": "https://localhost:8080/",
          "height": 100
        },
        "id": "4KgthlHc9Sd8",
        "outputId": "a3703211-5e79-48fd-94de-45dedda83d73"
      },
      "source": [
        "df = pd.read_csv(\"edu-data.csv\")\r\n",
        "df.sample(1)"
      ],
      "execution_count": 307,
      "outputs": [
        {
          "output_type": "execute_result",
          "data": {
            "text/html": [
              "<div>\n",
              "<style scoped>\n",
              "    .dataframe tbody tr th:only-of-type {\n",
              "        vertical-align: middle;\n",
              "    }\n",
              "\n",
              "    .dataframe tbody tr th {\n",
              "        vertical-align: top;\n",
              "    }\n",
              "\n",
              "    .dataframe thead th {\n",
              "        text-align: right;\n",
              "    }\n",
              "</style>\n",
              "<table border=\"1\" class=\"dataframe\">\n",
              "  <thead>\n",
              "    <tr style=\"text-align: right;\">\n",
              "      <th></th>\n",
              "      <th>gender</th>\n",
              "      <th>NationalITy</th>\n",
              "      <th>PlaceofBirth</th>\n",
              "      <th>StageID</th>\n",
              "      <th>GradeID</th>\n",
              "      <th>SectionID</th>\n",
              "      <th>Topic</th>\n",
              "      <th>Semester</th>\n",
              "      <th>Relation</th>\n",
              "      <th>raisedhands</th>\n",
              "      <th>VisITedResources</th>\n",
              "      <th>AnnouncementsView</th>\n",
              "      <th>Discussion</th>\n",
              "      <th>ParentAnsweringSurvey</th>\n",
              "      <th>ParentschoolSatisfaction</th>\n",
              "      <th>StudentAbsenceDays</th>\n",
              "      <th>Class</th>\n",
              "    </tr>\n",
              "  </thead>\n",
              "  <tbody>\n",
              "    <tr>\n",
              "      <th>280</th>\n",
              "      <td>M</td>\n",
              "      <td>Iraq</td>\n",
              "      <td>Iraq</td>\n",
              "      <td>MiddleSchool</td>\n",
              "      <td>G-06</td>\n",
              "      <td>A</td>\n",
              "      <td>English</td>\n",
              "      <td>F</td>\n",
              "      <td>Mum</td>\n",
              "      <td>74</td>\n",
              "      <td>71</td>\n",
              "      <td>56</td>\n",
              "      <td>37</td>\n",
              "      <td>No</td>\n",
              "      <td>Good</td>\n",
              "      <td>Under-7</td>\n",
              "      <td>H</td>\n",
              "    </tr>\n",
              "  </tbody>\n",
              "</table>\n",
              "</div>"
            ],
            "text/plain": [
              "    gender NationalITy  ... StudentAbsenceDays Class\n",
              "280      M        Iraq  ...            Under-7     H\n",
              "\n",
              "[1 rows x 17 columns]"
            ]
          },
          "metadata": {
            "tags": []
          },
          "execution_count": 307
        }
      ]
    },
    {
      "cell_type": "code",
      "metadata": {
        "colab": {
          "base_uri": "https://localhost:8080/"
        },
        "id": "8YcmAZdC-4tf",
        "outputId": "a53a571e-848e-4fa0-92dc-65e144e5e6ac"
      },
      "source": [
        "df.info()"
      ],
      "execution_count": 308,
      "outputs": [
        {
          "output_type": "stream",
          "text": [
            "<class 'pandas.core.frame.DataFrame'>\n",
            "RangeIndex: 480 entries, 0 to 479\n",
            "Data columns (total 17 columns):\n",
            " #   Column                    Non-Null Count  Dtype \n",
            "---  ------                    --------------  ----- \n",
            " 0   gender                    480 non-null    object\n",
            " 1   NationalITy               480 non-null    object\n",
            " 2   PlaceofBirth              480 non-null    object\n",
            " 3   StageID                   480 non-null    object\n",
            " 4   GradeID                   480 non-null    object\n",
            " 5   SectionID                 480 non-null    object\n",
            " 6   Topic                     480 non-null    object\n",
            " 7   Semester                  480 non-null    object\n",
            " 8   Relation                  480 non-null    object\n",
            " 9   raisedhands               480 non-null    int64 \n",
            " 10  VisITedResources          480 non-null    int64 \n",
            " 11  AnnouncementsView         480 non-null    int64 \n",
            " 12  Discussion                480 non-null    int64 \n",
            " 13  ParentAnsweringSurvey     480 non-null    object\n",
            " 14  ParentschoolSatisfaction  480 non-null    object\n",
            " 15  StudentAbsenceDays        480 non-null    object\n",
            " 16  Class                     480 non-null    object\n",
            "dtypes: int64(4), object(13)\n",
            "memory usage: 63.9+ KB\n"
          ],
          "name": "stdout"
        }
      ]
    },
    {
      "cell_type": "code",
      "metadata": {
        "id": "fn92yMym_F00"
      },
      "source": [
        "# Now seprating the nominal attrubites and the numeric attrubites\r\n",
        "nominal_attr = [\"gender\" , \"NationalITy\" , \"PlaceofBirth\",\"StageID\",\"GradeID\",\"SectionID\",\"Topic\",\"Semester\",\"Relation\",\"ParentAnsweringSurvey\",\"ParentschoolSatisfaction\"\r\n",
        " ,\"StudentAbsenceDays\", \"Class\"]\r\n",
        "\r\n",
        "numeric_attr = [\"raisedhands\", \"VisITedResources\", \"AnnouncementsView\", \"Discussion\"]"
      ],
      "execution_count": 309,
      "outputs": []
    },
    {
      "cell_type": "code",
      "metadata": {
        "id": "KUEGx5ttuUcl"
      },
      "source": [
        "from sklearn.preprocessing import MinMaxScaler\r\n",
        "scaler = MinMaxScaler()\r\n",
        "df[numeric_attr] = scaler.fit_transform(df[numeric_attr])"
      ],
      "execution_count": 310,
      "outputs": []
    },
    {
      "cell_type": "code",
      "metadata": {
        "id": "WhLj8BTVRiYj"
      },
      "source": [
        "fetures = df.loc[:,:\"StudentAbsenceDays\"]\r\n",
        "target = df.loc[:,\"Class\"]"
      ],
      "execution_count": 311,
      "outputs": []
    },
    {
      "cell_type": "code",
      "metadata": {
        "colab": {
          "base_uri": "https://localhost:8080/"
        },
        "id": "CCux7g-8AGO9",
        "outputId": "177774fe-a0ca-4065-f9de-9b592bc66ca0"
      },
      "source": [
        "# One got encoding to nominal attrubites becomes numeric\r\n",
        "# df_onehot = pd.get_dummies(fetures)\r\n",
        "# df_onehot.sample\r\n",
        "target.sample()"
      ],
      "execution_count": 312,
      "outputs": [
        {
          "output_type": "execute_result",
          "data": {
            "text/plain": [
              "123    M\n",
              "Name: Class, dtype: object"
            ]
          },
          "metadata": {
            "tags": []
          },
          "execution_count": 312
        }
      ]
    },
    {
      "cell_type": "code",
      "metadata": {
        "colab": {
          "base_uri": "https://localhost:8080/",
          "height": 100
        },
        "id": "iHeeoNW1IorV",
        "outputId": "e933eb9f-0645-4f88-f447-08bc2bef16d8"
      },
      "source": [
        "# df_onehot.loc[0:,\"gender_F\":].astype(\"int64\").dtypes\r\n",
        "# df_onehot.info()\r\n",
        "fetures.sample(1)"
      ],
      "execution_count": 313,
      "outputs": [
        {
          "output_type": "execute_result",
          "data": {
            "text/html": [
              "<div>\n",
              "<style scoped>\n",
              "    .dataframe tbody tr th:only-of-type {\n",
              "        vertical-align: middle;\n",
              "    }\n",
              "\n",
              "    .dataframe tbody tr th {\n",
              "        vertical-align: top;\n",
              "    }\n",
              "\n",
              "    .dataframe thead th {\n",
              "        text-align: right;\n",
              "    }\n",
              "</style>\n",
              "<table border=\"1\" class=\"dataframe\">\n",
              "  <thead>\n",
              "    <tr style=\"text-align: right;\">\n",
              "      <th></th>\n",
              "      <th>gender</th>\n",
              "      <th>NationalITy</th>\n",
              "      <th>PlaceofBirth</th>\n",
              "      <th>StageID</th>\n",
              "      <th>GradeID</th>\n",
              "      <th>SectionID</th>\n",
              "      <th>Topic</th>\n",
              "      <th>Semester</th>\n",
              "      <th>Relation</th>\n",
              "      <th>raisedhands</th>\n",
              "      <th>VisITedResources</th>\n",
              "      <th>AnnouncementsView</th>\n",
              "      <th>Discussion</th>\n",
              "      <th>ParentAnsweringSurvey</th>\n",
              "      <th>ParentschoolSatisfaction</th>\n",
              "      <th>StudentAbsenceDays</th>\n",
              "    </tr>\n",
              "  </thead>\n",
              "  <tbody>\n",
              "    <tr>\n",
              "      <th>26</th>\n",
              "      <td>M</td>\n",
              "      <td>KW</td>\n",
              "      <td>KuwaIT</td>\n",
              "      <td>MiddleSchool</td>\n",
              "      <td>G-07</td>\n",
              "      <td>B</td>\n",
              "      <td>IT</td>\n",
              "      <td>F</td>\n",
              "      <td>Father</td>\n",
              "      <td>0.19</td>\n",
              "      <td>0.191919</td>\n",
              "      <td>0.255102</td>\n",
              "      <td>0.397959</td>\n",
              "      <td>Yes</td>\n",
              "      <td>Bad</td>\n",
              "      <td>Under-7</td>\n",
              "    </tr>\n",
              "  </tbody>\n",
              "</table>\n",
              "</div>"
            ],
            "text/plain": [
              "   gender NationalITy  ... ParentschoolSatisfaction StudentAbsenceDays\n",
              "26      M          KW  ...                      Bad            Under-7\n",
              "\n",
              "[1 rows x 16 columns]"
            ]
          },
          "metadata": {
            "tags": []
          },
          "execution_count": 313
        }
      ]
    },
    {
      "cell_type": "code",
      "metadata": {
        "id": "wjr6f7wdXQM_"
      },
      "source": [
        "replace_gender = {'gender': {'F': 1, 'M': 2}}\r\n",
        "replace_nat = {'NationalITy': {'KW': 1, 'lebanon': 2, 'Egypt': 3, 'SaudiArabia': 4,\r\n",
        "                               'USA':5,'Jordan': 6, 'venzuela': 7, 'Iran': 8 , 'Tunis': 9 ,\r\n",
        "                               'Morocco': 10,'Syria': 11,'Palestine': 12,'Iraq': 13,'Lybia': 14}}\r\n",
        "\r\n",
        "replace_place = {'PlaceofBirth': {'KuwaIT': 1, 'lebanon': 2, 'Egypt': 3, 'SaudiArabia': 4\r\n",
        "                                  , 'USA':5,'Jordan': 6, 'venzuela': 7, 'Iran': 8 , 'Tunis': 9 ,\r\n",
        "                                  'Morocco': 10,'Syria': 11,'Iraq': 12,'Palestine': 13,'Lybia': 14}}\r\n",
        "replace_stage = {'StageID': {'lowerlevel': 1, 'MiddleSchool': 2, 'HighSchool': 3}}\r\n",
        "replace_grade = {'GradeID': {'G-02':1,'G-04':2, 'G-05':3,'G-06':4,'G-07':5,'G-08':6,'G-09':7,'G-10':8,'G-11':9,'G-12':10}}\r\n",
        "replace_sec = {'SectionID': {'A': 1, 'B': 2, 'C': 3}}\r\n",
        "replace_topic = {'Topic': {'Arabic': 1, 'Biology': 2,'Chemistry': 3,\r\n",
        "                           'English': 4, 'French':5,'Geology': 6,\r\n",
        "                           'History': 7, 'IT': 8 , 'Math': 9 ,\r\n",
        "                           'Quran': 10,'Science': 11,'Spanish': 12}}\r\n",
        "replace_sems = {'Semester': {'F': 1, 'S': 2}}\r\n",
        "replace_rel = {'Relation': {'Father': 1, 'Mum': 2}}\r\n",
        "replace_pas = {'ParentAnsweringSurvey': {'Yes': 1, 'No': 2}}\r\n",
        "replace_pss = {'ParentschoolSatisfaction': {'Bad': 1, 'Good': 2}}\r\n",
        "replace_sad = {'StudentAbsenceDays': {'Above-7': 1, 'Under-7': 2}}"
      ],
      "execution_count": 314,
      "outputs": []
    },
    {
      "cell_type": "code",
      "metadata": {
        "id": "AYeT5xn4Zd3J"
      },
      "source": [
        "fetures.replace(replace_gender,inplace=True)\r\n",
        "fetures.replace(replace_nat,inplace=True)\r\n",
        "fetures.replace(replace_place,inplace=True)\r\n",
        "fetures.replace(replace_stage,inplace=True)\r\n",
        "fetures.replace(replace_grade,inplace=True)\r\n",
        "fetures.replace(replace_sec,inplace=True)\r\n",
        "fetures.replace(replace_topic,inplace=True)\r\n",
        "fetures.replace(replace_sems,inplace=True)\r\n",
        "fetures.replace(replace_rel,inplace=True)\r\n",
        "fetures.replace(replace_pas,inplace=True)\r\n",
        "fetures.replace(replace_pss,inplace=True)\r\n",
        "fetures.replace(replace_sad,inplace=True)"
      ],
      "execution_count": 315,
      "outputs": []
    },
    {
      "cell_type": "code",
      "metadata": {
        "colab": {
          "base_uri": "https://localhost:8080/",
          "height": 100
        },
        "id": "I8MCUvtzZ8Wh",
        "outputId": "d571454e-c6e9-4647-f705-3ddb82b65ab2"
      },
      "source": [
        "fetures.sample(1)"
      ],
      "execution_count": 316,
      "outputs": [
        {
          "output_type": "execute_result",
          "data": {
            "text/html": [
              "<div>\n",
              "<style scoped>\n",
              "    .dataframe tbody tr th:only-of-type {\n",
              "        vertical-align: middle;\n",
              "    }\n",
              "\n",
              "    .dataframe tbody tr th {\n",
              "        vertical-align: top;\n",
              "    }\n",
              "\n",
              "    .dataframe thead th {\n",
              "        text-align: right;\n",
              "    }\n",
              "</style>\n",
              "<table border=\"1\" class=\"dataframe\">\n",
              "  <thead>\n",
              "    <tr style=\"text-align: right;\">\n",
              "      <th></th>\n",
              "      <th>gender</th>\n",
              "      <th>NationalITy</th>\n",
              "      <th>PlaceofBirth</th>\n",
              "      <th>StageID</th>\n",
              "      <th>GradeID</th>\n",
              "      <th>SectionID</th>\n",
              "      <th>Topic</th>\n",
              "      <th>Semester</th>\n",
              "      <th>Relation</th>\n",
              "      <th>raisedhands</th>\n",
              "      <th>VisITedResources</th>\n",
              "      <th>AnnouncementsView</th>\n",
              "      <th>Discussion</th>\n",
              "      <th>ParentAnsweringSurvey</th>\n",
              "      <th>ParentschoolSatisfaction</th>\n",
              "      <th>StudentAbsenceDays</th>\n",
              "    </tr>\n",
              "  </thead>\n",
              "  <tbody>\n",
              "    <tr>\n",
              "      <th>174</th>\n",
              "      <td>1</td>\n",
              "      <td>6</td>\n",
              "      <td>6</td>\n",
              "      <td>1</td>\n",
              "      <td>1</td>\n",
              "      <td>2</td>\n",
              "      <td>5</td>\n",
              "      <td>2</td>\n",
              "      <td>1</td>\n",
              "      <td>0.5</td>\n",
              "      <td>0.626263</td>\n",
              "      <td>0.744898</td>\n",
              "      <td>0.428571</td>\n",
              "      <td>1</td>\n",
              "      <td>1</td>\n",
              "      <td>1</td>\n",
              "    </tr>\n",
              "  </tbody>\n",
              "</table>\n",
              "</div>"
            ],
            "text/plain": [
              "     gender  NationalITy  ...  ParentschoolSatisfaction  StudentAbsenceDays\n",
              "174       1            6  ...                         1                   1\n",
              "\n",
              "[1 rows x 16 columns]"
            ]
          },
          "metadata": {
            "tags": []
          },
          "execution_count": 316
        }
      ]
    },
    {
      "cell_type": "code",
      "metadata": {
        "colab": {
          "base_uri": "https://localhost:8080/"
        },
        "id": "IGivKwelSDhe",
        "outputId": "367b4b5d-2015-4b66-ac68-da8b28faa119"
      },
      "source": [
        "replace_class =  {'L': 1, 'M': 2 , 'H':3}\r\n",
        "target.replace(replace_class,inplace=True)\r\n",
        "target"
      ],
      "execution_count": 317,
      "outputs": [
        {
          "output_type": "execute_result",
          "data": {
            "text/plain": [
              "0      2\n",
              "1      2\n",
              "2      1\n",
              "3      1\n",
              "4      2\n",
              "      ..\n",
              "475    1\n",
              "476    2\n",
              "477    2\n",
              "478    1\n",
              "479    1\n",
              "Name: Class, Length: 480, dtype: int64"
            ]
          },
          "metadata": {
            "tags": []
          },
          "execution_count": 317
        }
      ]
    },
    {
      "cell_type": "code",
      "metadata": {
        "id": "tRNdY1AzOv35"
      },
      "source": [
        "y = target # labels\r\n",
        "X = fetures"
      ],
      "execution_count": 318,
      "outputs": []
    },
    {
      "cell_type": "code",
      "metadata": {
        "colab": {
          "base_uri": "https://localhost:8080/"
        },
        "id": "2xrZvlooMRLM",
        "outputId": "bbc97e8e-2903-484a-b9fd-482969fe9eef"
      },
      "source": [
        "# Import train_test_split\r\n",
        "from sklearn.model_selection import train_test_split\r\n",
        "\r\n",
        "# Split the data into training and testing sets\r\n",
        "X_train, X_test, y_train, y_test = train_test_split(X,y,test_size = 0.2, \r\n",
        "                                                    random_state = 0)\r\n",
        "print(\"Training set has {} samples.\".format(X_train.shape[0]))\r\n",
        "print(\"Testing set has {} samples.\".format(X_test.shape[0]))"
      ],
      "execution_count": 319,
      "outputs": [
        {
          "output_type": "stream",
          "text": [
            "Training set has 384 samples.\n",
            "Testing set has 96 samples.\n"
          ],
          "name": "stdout"
        }
      ]
    },
    {
      "cell_type": "code",
      "metadata": {
        "id": "NDIvBf8XPqFz"
      },
      "source": [
        "from sklearn.metrics import accuracy_score \r\n",
        "from sklearn.metrics import f1_score"
      ],
      "execution_count": 320,
      "outputs": []
    },
    {
      "cell_type": "code",
      "metadata": {
        "id": "GEv3XYaJQSqv"
      },
      "source": [
        "from sklearn.svm import SVC\r\n",
        "from sklearn.tree import DecisionTreeClassifier\r\n",
        "from sklearn.linear_model import LogisticRegression\r\n",
        "from sklearn.model_selection import KFold\r\n",
        "from sklearn.model_selection import cross_validate\r\n",
        "from sklearn.metrics import make_scorer\r\n",
        "from sklearn.metrics import confusion_matrix\r\n",
        "models = {}\r\n",
        "models['SVC'] = SVC()\r\n",
        "models['DecisionTreeClassifier'] = DecisionTreeClassifier()\r\n",
        "models['LogisticRegression'] = LogisticRegression(max_iter = 480)"
      ],
      "execution_count": 321,
      "outputs": []
    },
    {
      "cell_type": "code",
      "metadata": {
        "colab": {
          "base_uri": "https://localhost:8080/"
        },
        "id": "_R5p3C-UwhLn",
        "outputId": "a7d43c4b-4924-4a6c-a628-0076a0eae535"
      },
      "source": [
        "conf_matrix_list_of_arrays = {}\r\n",
        "conf_matrix_list_of_arrays[\"SVC\"] = []\r\n",
        "conf_matrix_list_of_arrays[\"DecisionTreeClassifier\"] = []\r\n",
        "conf_matrix_list_of_arrays[\"LogisticRegression\"] = []\r\n",
        "accuracy_results = {\"SVC\" : {\"train\":0, \"test\":0},\"DecisionTreeClassifier\" : {\"train\":0, \"test\":0},\"LogisticRegression\" : {\"train\":0, \"test\":0}}\r\n",
        "f1score_results = {\"SVC\" : {\"train\":0, \"test\":0},\"DecisionTreeClassifier\" : {\"train\":0, \"test\":0},\"LogisticRegression\" : {\"train\":0, \"test\":0}}\r\n",
        "kf = KFold(n_splits=10)\r\n",
        "for model in models:\r\n",
        "  for train_index, test_index in kf.split(X):\r\n",
        "    X_train, X_test = X.iloc[train_index], X.iloc[test_index]\r\n",
        "    y_train, y_test = y.iloc[train_index], y.iloc[test_index]\r\n",
        "    \r\n",
        "    models[model].fit(X_train, y_train)\r\n",
        "    predictions_test = models[model].predict(X_test)\r\n",
        "    predictions_train = models[model].predict(X_train)\r\n",
        "    accuracy_results[model][\"train\"] += accuracy_score(y_train,predictions_train)\r\n",
        "        \r\n",
        "    # TODO: Compute accuracy on test set using accuracy_score()\r\n",
        "    accuracy_results[model][\"test\"] += accuracy_score(y_test,predictions_test)\r\n",
        "    \r\n",
        "    # TODO: Compute F-score on the the first 300 training samples using fbeta_score()\r\n",
        "    f1score_results[model][\"train\"] += f1_score(y_train,predictions_train,average='micro')\r\n",
        "    \r\n",
        "    # TODO: Compute F-score on the test set which is y_test\r\n",
        "    f1score_results[model][\"test\"] += f1_score(y_test,predictions_test,average='micro')\r\n",
        "\r\n",
        "    conf_matrix = confusion_matrix(y_test, predictions_test)\r\n",
        "    conf_matrix_list_of_arrays[model].append(conf_matrix)\r\n",
        "  accuracy_results[model][\"train\"] = accuracy_results[model][\"train\"] / 10\r\n",
        "  accuracy_results[model][\"test\"] = accuracy_results[model][\"test\"] / 10\r\n",
        "  f1score_results[model][\"train\"] = f1score_results[model][\"train\"] / 10\r\n",
        "  f1score_results[model][\"test\"] = f1score_results[model][\"test\"] / 10\r\n",
        "  conf_matrix_list_of_arrays[model] = np.mean(conf_matrix_list_of_arrays[model], axis=0)\r\n",
        "  print(model + \":\")\r\n",
        "  print(\"Accuracy:\" , 'train: ', accuracy_results[model][\"train\"], '| test: ', accuracy_results[model][\"test\"])\r\n",
        "  print(\"F1-score:\" , 'train: ', f1score_results[model][\"train\"], '| test: ', f1score_results[model][\"test\"])\r\n",
        "  print(\"Confusion Matrix:\\n\" , conf_matrix_list_of_arrays[model])\r\n",
        "  print(\"---------------------------------------------------------\")"
      ],
      "execution_count": 322,
      "outputs": [
        {
          "output_type": "stream",
          "text": [
            "SVC:\n",
            "Accuracy: train:  0.6534722222222222 | test:  0.5541666666666668\n",
            "F1-score: train:  0.6534722222222222 | test:  0.5541666666666668\n",
            "Confusion Matrix:\n",
            " [[ 6.5  5.7  0.5]\n",
            " [ 1.9 17.7  1.5]\n",
            " [ 0.  11.8  2.4]]\n",
            "---------------------------------------------------------\n",
            "DecisionTreeClassifier:\n",
            "Accuracy: train:  1.0 | test:  0.6\n",
            "F1-score: train:  1.0 | test:  0.6\n",
            "Confusion Matrix:\n",
            " [[ 9.4  3.1  0.2]\n",
            " [ 3.5 11.6  6. ]\n",
            " [ 0.2  6.2  7.8]]\n",
            "---------------------------------------------------------\n",
            "LogisticRegression:\n",
            "Accuracy: train:  0.788888888888889 | test:  0.7437499999999999\n",
            "F1-score: train:  0.788888888888889 | test:  0.7437499999999999\n",
            "Confusion Matrix:\n",
            " [[10.7  2.   0. ]\n",
            " [ 2.5 14.6  4. ]\n",
            " [ 0.   3.8 10.4]]\n",
            "---------------------------------------------------------\n"
          ],
          "name": "stdout"
        }
      ]
    },
    {
      "cell_type": "markdown",
      "metadata": {
        "id": "4zu0bt5HxYuS"
      },
      "source": [
        "As shown in the above result, that the SVC is not good at general. However, DecisionTreeClassifier tent to overfit. And the best model is the LogisticRegression"
      ]
    },
    {
      "cell_type": "code",
      "metadata": {
        "id": "y68VMZlGmwnH"
      },
      "source": [
        "from sklearn.model_selection import GridSearchCV\r\n",
        "\r\n",
        "param_svc = {'C':[1,10,100,1000],'gamma':[1,0.1,0.001,0.0001], 'kernel':['linear','rbf']}"
      ],
      "execution_count": 323,
      "outputs": []
    },
    {
      "cell_type": "code",
      "metadata": {
        "id": "MryhMwimm8KO"
      },
      "source": [
        "grid_svc = GridSearchCV(SVC(),param_svc)\r\n",
        "grid_svc.fit(X_train,y_train)\r\n",
        "grid_svc_pred_test = grid_svc.predict(X_test)\r\n",
        "grid_svc_pred_train = grid_svc.predict(X_train)"
      ],
      "execution_count": 324,
      "outputs": []
    },
    {
      "cell_type": "code",
      "metadata": {
        "id": "GJB6TCJisX2g"
      },
      "source": [
        "accuracy_results_train = accuracy_score(y_train,grid_svc_pred_train)\r\n",
        "        \r\n",
        "# TODO: Compute accuracy on test set using accuracy_score()\r\n",
        "accuracy_results_test = accuracy_score(y_test,grid_svc_pred_test)\r\n",
        "\r\n",
        "# TODO: Compute F-score on the the first 300 training samples using fbeta_score()\r\n",
        "f1score_results_train = f1_score(y_train,grid_svc_pred_train,average='micro')\r\n",
        "\r\n",
        "# TODO: Compute F-score on the test set which is y_test\r\n",
        "f1score_results_test= f1_score(y_test,grid_svc_pred_test,average='micro')"
      ],
      "execution_count": 325,
      "outputs": []
    },
    {
      "cell_type": "code",
      "metadata": {
        "colab": {
          "base_uri": "https://localhost:8080/"
        },
        "id": "bPorCaLPN-Mg",
        "outputId": "de68c7c4-2638-4a7d-95cd-b4413c63879d"
      },
      "source": [
        "print(\"SVC accuracy after grid search \", \"train ->\", accuracy_results_train)\r\n",
        "print(\"SVC accuracy after grid search \", \"test ->\", accuracy_results_test)\r\n",
        "print(\"SVC F1-score after grid search \", \"train ->\", f1score_results_train)\r\n",
        "print(\"SVC F1-score after grid search \", \"test ->\", f1score_results_test)"
      ],
      "execution_count": 327,
      "outputs": [
        {
          "output_type": "stream",
          "text": [
            "SVC accuracy after grid search  train -> 0.7916666666666666\n",
            "SVC accuracy after grid search  test -> 0.6875\n",
            "SVC F1-score after grid search  train -> 0.7916666666666666\n",
            "SVC F1-score after grid search  test -> 0.6875\n"
          ],
          "name": "stdout"
        }
      ]
    }
  ]
}