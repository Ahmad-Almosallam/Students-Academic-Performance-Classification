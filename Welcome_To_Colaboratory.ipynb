{
  "nbformat": 4,
  "nbformat_minor": 0,
  "metadata": {
    "colab": {
      "name": "Welcome To Colaboratory",
      "provenance": [],
      "collapsed_sections": [],
      "toc_visible": true
    },
    "kernelspec": {
      "display_name": "Python 3",
      "name": "python3"
    }
  },
  "cells": [
    {
      "cell_type": "markdown",
      "metadata": {
        "id": "-oB6SDZr8sFE"
      },
      "source": [
        "First import the necessary libraries"
      ]
    },
    {
      "cell_type": "code",
      "metadata": {
        "id": "EsYhTik99JxU"
      },
      "source": [
        "import pandas as pd"
      ],
      "execution_count": 2,
      "outputs": []
    },
    {
      "cell_type": "markdown",
      "metadata": {
        "id": "27sN1GWk9UMp"
      },
      "source": [
        "Now upload the save the dataset into variable"
      ]
    },
    {
      "cell_type": "code",
      "metadata": {
        "colab": {
          "base_uri": "https://localhost:8080/",
          "height": 100
        },
        "id": "4KgthlHc9Sd8",
        "outputId": "0dde844f-d78d-4920-b4ef-98b82587805c"
      },
      "source": [
        "df = pd.read_csv(\"edu-data.csv\")\r\n",
        "df.sample(1)"
      ],
      "execution_count": 286,
      "outputs": [
        {
          "output_type": "execute_result",
          "data": {
            "text/html": [
              "<div>\n",
              "<style scoped>\n",
              "    .dataframe tbody tr th:only-of-type {\n",
              "        vertical-align: middle;\n",
              "    }\n",
              "\n",
              "    .dataframe tbody tr th {\n",
              "        vertical-align: top;\n",
              "    }\n",
              "\n",
              "    .dataframe thead th {\n",
              "        text-align: right;\n",
              "    }\n",
              "</style>\n",
              "<table border=\"1\" class=\"dataframe\">\n",
              "  <thead>\n",
              "    <tr style=\"text-align: right;\">\n",
              "      <th></th>\n",
              "      <th>gender</th>\n",
              "      <th>NationalITy</th>\n",
              "      <th>PlaceofBirth</th>\n",
              "      <th>StageID</th>\n",
              "      <th>GradeID</th>\n",
              "      <th>SectionID</th>\n",
              "      <th>Topic</th>\n",
              "      <th>Semester</th>\n",
              "      <th>Relation</th>\n",
              "      <th>raisedhands</th>\n",
              "      <th>VisITedResources</th>\n",
              "      <th>AnnouncementsView</th>\n",
              "      <th>Discussion</th>\n",
              "      <th>ParentAnsweringSurvey</th>\n",
              "      <th>ParentschoolSatisfaction</th>\n",
              "      <th>StudentAbsenceDays</th>\n",
              "      <th>Class</th>\n",
              "    </tr>\n",
              "  </thead>\n",
              "  <tbody>\n",
              "    <tr>\n",
              "      <th>389</th>\n",
              "      <td>M</td>\n",
              "      <td>Jordan</td>\n",
              "      <td>SaudiArabia</td>\n",
              "      <td>lowerlevel</td>\n",
              "      <td>G-02</td>\n",
              "      <td>B</td>\n",
              "      <td>Arabic</td>\n",
              "      <td>S</td>\n",
              "      <td>Mum</td>\n",
              "      <td>5</td>\n",
              "      <td>0</td>\n",
              "      <td>1</td>\n",
              "      <td>8</td>\n",
              "      <td>No</td>\n",
              "      <td>Good</td>\n",
              "      <td>Above-7</td>\n",
              "      <td>L</td>\n",
              "    </tr>\n",
              "  </tbody>\n",
              "</table>\n",
              "</div>"
            ],
            "text/plain": [
              "    gender NationalITy  ... StudentAbsenceDays Class\n",
              "389      M      Jordan  ...            Above-7     L\n",
              "\n",
              "[1 rows x 17 columns]"
            ]
          },
          "metadata": {
            "tags": []
          },
          "execution_count": 286
        }
      ]
    },
    {
      "cell_type": "code",
      "metadata": {
        "colab": {
          "base_uri": "https://localhost:8080/"
        },
        "id": "8YcmAZdC-4tf",
        "outputId": "3469236b-e1f2-49d7-a3d5-7a78a9ec8cf9"
      },
      "source": [
        "df.info()"
      ],
      "execution_count": 287,
      "outputs": [
        {
          "output_type": "stream",
          "text": [
            "<class 'pandas.core.frame.DataFrame'>\n",
            "RangeIndex: 480 entries, 0 to 479\n",
            "Data columns (total 17 columns):\n",
            " #   Column                    Non-Null Count  Dtype \n",
            "---  ------                    --------------  ----- \n",
            " 0   gender                    480 non-null    object\n",
            " 1   NationalITy               480 non-null    object\n",
            " 2   PlaceofBirth              480 non-null    object\n",
            " 3   StageID                   480 non-null    object\n",
            " 4   GradeID                   480 non-null    object\n",
            " 5   SectionID                 480 non-null    object\n",
            " 6   Topic                     480 non-null    object\n",
            " 7   Semester                  480 non-null    object\n",
            " 8   Relation                  480 non-null    object\n",
            " 9   raisedhands               480 non-null    int64 \n",
            " 10  VisITedResources          480 non-null    int64 \n",
            " 11  AnnouncementsView         480 non-null    int64 \n",
            " 12  Discussion                480 non-null    int64 \n",
            " 13  ParentAnsweringSurvey     480 non-null    object\n",
            " 14  ParentschoolSatisfaction  480 non-null    object\n",
            " 15  StudentAbsenceDays        480 non-null    object\n",
            " 16  Class                     480 non-null    object\n",
            "dtypes: int64(4), object(13)\n",
            "memory usage: 63.9+ KB\n"
          ],
          "name": "stdout"
        }
      ]
    },
    {
      "cell_type": "code",
      "metadata": {
        "id": "fn92yMym_F00"
      },
      "source": [
        "# Now seprating the nominal attrubites and the numeric attrubites\r\n",
        "nominal_attr = [\"gender\" , \"Nationality\" , \"PlaceofBirth\",\"StageID\",\"GradeID\",\"SectionID\",\"Topic\",\"Semester\",\"Relation\",\"ParentAnsweringSurvey\",\"ParentschoolSatisfaction\"\r\n",
        " ,\"StudentAbsenceDays\", \"Class\"]\r\n",
        "\r\n",
        "numeric_attr = [\"raisedhands\", \"VisITedResources\", \"AnnouncementsView\", \"Discussion\"]"
      ],
      "execution_count": 288,
      "outputs": []
    },
    {
      "cell_type": "code",
      "metadata": {
        "id": "KUEGx5ttuUcl"
      },
      "source": [
        "from sklearn.preprocessing import MinMaxScaler\r\n",
        "scaler = MinMaxScaler()\r\n",
        "df[numeric_attr] = scaler.fit_transform(df[numeric_attr])"
      ],
      "execution_count": 289,
      "outputs": []
    },
    {
      "cell_type": "code",
      "metadata": {
        "id": "WhLj8BTVRiYj"
      },
      "source": [
        "fetures = df.loc[:,:\"StudentAbsenceDays\"]\r\n",
        "target = df.loc[:,\"Class\"]"
      ],
      "execution_count": 290,
      "outputs": []
    },
    {
      "cell_type": "code",
      "metadata": {
        "colab": {
          "base_uri": "https://localhost:8080/"
        },
        "id": "CCux7g-8AGO9",
        "outputId": "19693831-195a-42f8-a0d4-82680acd2517"
      },
      "source": [
        "# One got encoding to nominal attrubites becomes numeric\r\n",
        "# df_onehot = pd.get_dummies(fetures)\r\n",
        "# df_onehot.sample\r\n",
        "target.sample()"
      ],
      "execution_count": 291,
      "outputs": [
        {
          "output_type": "execute_result",
          "data": {
            "text/plain": [
              "397    M\n",
              "Name: Class, dtype: object"
            ]
          },
          "metadata": {
            "tags": []
          },
          "execution_count": 291
        }
      ]
    },
    {
      "cell_type": "code",
      "metadata": {
        "colab": {
          "base_uri": "https://localhost:8080/",
          "height": 100
        },
        "id": "iHeeoNW1IorV",
        "outputId": "d62c3e09-4325-444e-be69-3d8feab368f8"
      },
      "source": [
        "# df_onehot.loc[0:,\"gender_F\":].astype(\"int64\").dtypes\r\n",
        "# df_onehot.info()\r\n",
        "fetures.sample(1)"
      ],
      "execution_count": 292,
      "outputs": [
        {
          "output_type": "execute_result",
          "data": {
            "text/html": [
              "<div>\n",
              "<style scoped>\n",
              "    .dataframe tbody tr th:only-of-type {\n",
              "        vertical-align: middle;\n",
              "    }\n",
              "\n",
              "    .dataframe tbody tr th {\n",
              "        vertical-align: top;\n",
              "    }\n",
              "\n",
              "    .dataframe thead th {\n",
              "        text-align: right;\n",
              "    }\n",
              "</style>\n",
              "<table border=\"1\" class=\"dataframe\">\n",
              "  <thead>\n",
              "    <tr style=\"text-align: right;\">\n",
              "      <th></th>\n",
              "      <th>gender</th>\n",
              "      <th>NationalITy</th>\n",
              "      <th>PlaceofBirth</th>\n",
              "      <th>StageID</th>\n",
              "      <th>GradeID</th>\n",
              "      <th>SectionID</th>\n",
              "      <th>Topic</th>\n",
              "      <th>Semester</th>\n",
              "      <th>Relation</th>\n",
              "      <th>raisedhands</th>\n",
              "      <th>VisITedResources</th>\n",
              "      <th>AnnouncementsView</th>\n",
              "      <th>Discussion</th>\n",
              "      <th>ParentAnsweringSurvey</th>\n",
              "      <th>ParentschoolSatisfaction</th>\n",
              "      <th>StudentAbsenceDays</th>\n",
              "    </tr>\n",
              "  </thead>\n",
              "  <tbody>\n",
              "    <tr>\n",
              "      <th>376</th>\n",
              "      <td>M</td>\n",
              "      <td>Jordan</td>\n",
              "      <td>Jordan</td>\n",
              "      <td>lowerlevel</td>\n",
              "      <td>G-02</td>\n",
              "      <td>B</td>\n",
              "      <td>Arabic</td>\n",
              "      <td>F</td>\n",
              "      <td>Mum</td>\n",
              "      <td>0.2</td>\n",
              "      <td>0.909091</td>\n",
              "      <td>0.510204</td>\n",
              "      <td>0.612245</td>\n",
              "      <td>Yes</td>\n",
              "      <td>Bad</td>\n",
              "      <td>Above-7</td>\n",
              "    </tr>\n",
              "  </tbody>\n",
              "</table>\n",
              "</div>"
            ],
            "text/plain": [
              "    gender NationalITy  ... ParentschoolSatisfaction StudentAbsenceDays\n",
              "376      M      Jordan  ...                      Bad            Above-7\n",
              "\n",
              "[1 rows x 16 columns]"
            ]
          },
          "metadata": {
            "tags": []
          },
          "execution_count": 292
        }
      ]
    },
    {
      "cell_type": "code",
      "metadata": {
        "id": "wjr6f7wdXQM_"
      },
      "source": [
        "replace_gender = {'gender': {'F': 1, 'M': 2}}\r\n",
        "replace_nat = {'NationalITy': {'KW': 1, 'lebanon': 2, 'Egypt': 3, 'SaudiArabia': 4,\r\n",
        "                               'USA':5,'Jordan': 6, 'venzuela': 7, 'Iran': 8 , 'Tunis': 9 ,\r\n",
        "                               'Morocco': 10,'Syria': 11,'Palestine': 12,'Iraq': 13,'Lybia': 14}}\r\n",
        "\r\n",
        "replace_place = {'PlaceofBirth': {'KuwaIT': 1, 'lebanon': 2, 'Egypt': 3, 'SaudiArabia': 4\r\n",
        "                                  , 'USA':5,'Jordan': 6, 'venzuela': 7, 'Iran': 8 , 'Tunis': 9 ,\r\n",
        "                                  'Morocco': 10,'Syria': 11,'Iraq': 12,'Palestine': 13,'Lybia': 14}}\r\n",
        "replace_stage = {'StageID': {'lowerlevel': 1, 'MiddleSchool': 2, 'HighSchool': 3}}\r\n",
        "replace_grade = {'GradeID': {'G-02':1,'G-04':2, 'G-05':3,'G-06':4,'G-07':5,'G-08':6,'G-09':7,'G-10':8,'G-11':9,'G-12':10}}\r\n",
        "replace_sec = {'SectionID': {'A': 1, 'B': 2, 'C': 3}}\r\n",
        "replace_topic = {'Topic': {'Arabic': 1, 'Biology': 2,'Chemistry': 3,\r\n",
        "                           'English': 4, 'French':5,'Geology': 6,\r\n",
        "                           'History': 7, 'IT': 8 , 'Math': 9 ,\r\n",
        "                           'Quran': 10,'Science': 11,'Spanish': 12}}\r\n",
        "replace_sems = {'Semester': {'F': 1, 'S': 2}}\r\n",
        "replace_rel = {'Relation': {'Father': 1, 'Mum': 2}}\r\n",
        "replace_pas = {'ParentAnsweringSurvey': {'Yes': 1, 'No': 2}}\r\n",
        "replace_pss = {'ParentschoolSatisfaction': {'Bad': 1, 'Good': 2}}\r\n",
        "replace_sad = {'StudentAbsenceDays': {'Above-7': 1, 'Under-7': 2}}"
      ],
      "execution_count": 293,
      "outputs": []
    },
    {
      "cell_type": "code",
      "metadata": {
        "id": "AYeT5xn4Zd3J"
      },
      "source": [
        "fetures.replace(replace_gender,inplace=True)\r\n",
        "fetures.replace(replace_nat,inplace=True)\r\n",
        "fetures.replace(replace_place,inplace=True)\r\n",
        "fetures.replace(replace_stage,inplace=True)\r\n",
        "fetures.replace(replace_grade,inplace=True)\r\n",
        "fetures.replace(replace_sec,inplace=True)\r\n",
        "fetures.replace(replace_topic,inplace=True)\r\n",
        "fetures.replace(replace_sems,inplace=True)\r\n",
        "fetures.replace(replace_rel,inplace=True)\r\n",
        "fetures.replace(replace_pas,inplace=True)\r\n",
        "fetures.replace(replace_pss,inplace=True)\r\n",
        "fetures.replace(replace_sad,inplace=True)"
      ],
      "execution_count": 294,
      "outputs": []
    },
    {
      "cell_type": "code",
      "metadata": {
        "colab": {
          "base_uri": "https://localhost:8080/",
          "height": 100
        },
        "id": "I8MCUvtzZ8Wh",
        "outputId": "c20afe39-0fd3-4bc0-ea42-c8daf04306e5"
      },
      "source": [
        "fetures.sample(1)"
      ],
      "execution_count": 295,
      "outputs": [
        {
          "output_type": "execute_result",
          "data": {
            "text/html": [
              "<div>\n",
              "<style scoped>\n",
              "    .dataframe tbody tr th:only-of-type {\n",
              "        vertical-align: middle;\n",
              "    }\n",
              "\n",
              "    .dataframe tbody tr th {\n",
              "        vertical-align: top;\n",
              "    }\n",
              "\n",
              "    .dataframe thead th {\n",
              "        text-align: right;\n",
              "    }\n",
              "</style>\n",
              "<table border=\"1\" class=\"dataframe\">\n",
              "  <thead>\n",
              "    <tr style=\"text-align: right;\">\n",
              "      <th></th>\n",
              "      <th>gender</th>\n",
              "      <th>NationalITy</th>\n",
              "      <th>PlaceofBirth</th>\n",
              "      <th>StageID</th>\n",
              "      <th>GradeID</th>\n",
              "      <th>SectionID</th>\n",
              "      <th>Topic</th>\n",
              "      <th>Semester</th>\n",
              "      <th>Relation</th>\n",
              "      <th>raisedhands</th>\n",
              "      <th>VisITedResources</th>\n",
              "      <th>AnnouncementsView</th>\n",
              "      <th>Discussion</th>\n",
              "      <th>ParentAnsweringSurvey</th>\n",
              "      <th>ParentschoolSatisfaction</th>\n",
              "      <th>StudentAbsenceDays</th>\n",
              "    </tr>\n",
              "  </thead>\n",
              "  <tbody>\n",
              "    <tr>\n",
              "      <th>382</th>\n",
              "      <td>2</td>\n",
              "      <td>13</td>\n",
              "      <td>12</td>\n",
              "      <td>1</td>\n",
              "      <td>1</td>\n",
              "      <td>2</td>\n",
              "      <td>1</td>\n",
              "      <td>1</td>\n",
              "      <td>2</td>\n",
              "      <td>0.69</td>\n",
              "      <td>0.828283</td>\n",
              "      <td>0.204082</td>\n",
              "      <td>0.27551</td>\n",
              "      <td>1</td>\n",
              "      <td>2</td>\n",
              "      <td>2</td>\n",
              "    </tr>\n",
              "  </tbody>\n",
              "</table>\n",
              "</div>"
            ],
            "text/plain": [
              "     gender  NationalITy  ...  ParentschoolSatisfaction  StudentAbsenceDays\n",
              "382       2           13  ...                         2                   2\n",
              "\n",
              "[1 rows x 16 columns]"
            ]
          },
          "metadata": {
            "tags": []
          },
          "execution_count": 295
        }
      ]
    },
    {
      "cell_type": "code",
      "metadata": {
        "colab": {
          "base_uri": "https://localhost:8080/"
        },
        "id": "IGivKwelSDhe",
        "outputId": "a80de7be-7b9d-46de-ffcd-4c10ef084268"
      },
      "source": [
        "replace_class =  {'L': 1, 'M': 2 , 'H':3}\r\n",
        "target.replace(replace_class,inplace=True)\r\n",
        "target"
      ],
      "execution_count": 296,
      "outputs": [
        {
          "output_type": "execute_result",
          "data": {
            "text/plain": [
              "0      2\n",
              "1      2\n",
              "2      1\n",
              "3      1\n",
              "4      2\n",
              "      ..\n",
              "475    1\n",
              "476    2\n",
              "477    2\n",
              "478    1\n",
              "479    1\n",
              "Name: Class, Length: 480, dtype: int64"
            ]
          },
          "metadata": {
            "tags": []
          },
          "execution_count": 296
        }
      ]
    },
    {
      "cell_type": "code",
      "metadata": {
        "id": "tRNdY1AzOv35"
      },
      "source": [
        "y = target # labels\r\n",
        "X = fetures"
      ],
      "execution_count": 297,
      "outputs": []
    },
    {
      "cell_type": "code",
      "metadata": {
        "colab": {
          "base_uri": "https://localhost:8080/"
        },
        "id": "2xrZvlooMRLM",
        "outputId": "dec7b3dc-3fba-4dde-8141-03a4f8d94eda"
      },
      "source": [
        "# Import train_test_split\r\n",
        "from sklearn.model_selection import train_test_split\r\n",
        "\r\n",
        "# Split the data into training and testing sets\r\n",
        "X_train, X_test, y_train, y_test = train_test_split(X,y,test_size = 0.2, \r\n",
        "                                                    random_state = 0)\r\n",
        "print(\"Training set has {} samples.\".format(X_train.shape[0]))\r\n",
        "print(\"Testing set has {} samples.\".format(X_test.shape[0]))"
      ],
      "execution_count": 298,
      "outputs": [
        {
          "output_type": "stream",
          "text": [
            "Training set has 384 samples.\n",
            "Testing set has 96 samples.\n"
          ],
          "name": "stdout"
        }
      ]
    },
    {
      "cell_type": "code",
      "metadata": {
        "id": "NDIvBf8XPqFz"
      },
      "source": [
        "from sklearn.metrics import accuracy_score \r\n",
        "from sklearn.metrics import f1_score"
      ],
      "execution_count": 299,
      "outputs": []
    },
    {
      "cell_type": "code",
      "metadata": {
        "id": "keH_j1rLQPxC"
      },
      "source": [
        "def train_predict(learner, sample_size, X_train, y_train, X_test, y_test): \r\n",
        "    '''\r\n",
        "    inputs:\r\n",
        "       - learner: the learning algorithm to be trained and predicted on\r\n",
        "       - sample_size: the size of samples (number) to be drawn from training set\r\n",
        "       - X_train: features training set\r\n",
        "       - y_train: income training set\r\n",
        "       - X_test: features testing set\r\n",
        "       - y_test: income testing set\r\n",
        "    '''\r\n",
        "    \r\n",
        "    results = {}\r\n",
        "    \r\n",
        "    # TODO: Fit the learner to the training data using slicing with 'sample_size' using \r\n",
        "    #     .fit(training_features[:], training_labels[:])\r\n",
        "    start = time() # Get start time\r\n",
        "    learner = learner.fit(X_train[:sample_size] , y_train[:sample_size])\r\n",
        "    end = time() # Get end time\r\n",
        "    \r\n",
        "    # TODO: Calculate the training time\r\n",
        "    results['train_time'] = end - start\r\n",
        "        \r\n",
        "    # TODO: Get the predictions on the test set(X_test),\r\n",
        "    #       then get predictions on the first 300 training samples(X_train) using .predict()\r\n",
        "    start = time() # Get start time\r\n",
        "    predictions_test = learner.predict(X_test)\r\n",
        "    predictions_train = learner.predict(X_train)\r\n",
        "    end = time() # Get end time\r\n",
        "    \r\n",
        "    # TODO: Calculate the total prediction time\r\n",
        "    results['pred_time'] = end - start\r\n",
        "            \r\n",
        "    # TODO: Compute accuracy on the first 300 training samples which is y_train[:300]\r\n",
        "    results['acc_train'] = accuracy_score(y_train,predictions_train)\r\n",
        "        \r\n",
        "    # TODO: Compute accuracy on test set using accuracy_score()\r\n",
        "    results['acc_test'] = accuracy_score(y_test,predictions_test)\r\n",
        "    \r\n",
        "    # TODO: Compute F-score on the the first 300 training samples using fbeta_score()\r\n",
        "    results['f_train'] = f1_score(y_train,predictions_train,average='micro')\r\n",
        "    \r\n",
        "        \r\n",
        "    # TODO: Compute F-score on the test set which is y_test\r\n",
        "    results['f_test'] = f1_score(y_test,predictions_test,average='micro')\r\n",
        "       \r\n",
        "    # Success\r\n",
        "    print(\"{} trained on {} samples.\".format(learner.__class__.__name__, sample_size))\r\n",
        "        \r\n",
        "    # Return the results\r\n",
        "    return results"
      ],
      "execution_count": 259,
      "outputs": []
    },
    {
      "cell_type": "code",
      "metadata": {
        "id": "GEv3XYaJQSqv"
      },
      "source": [
        "from sklearn.svm import SVC\r\n",
        "from sklearn.tree import DecisionTreeClassifier\r\n",
        "from sklearn.linear_model import LogisticRegression\r\n",
        "from sklearn.model_selection import KFold\r\n",
        "from sklearn.model_selection import cross_validate\r\n",
        "from sklearn.metrics import make_scorer\r\n",
        "models = {}\r\n",
        "models['SVC'] = SVC()\r\n",
        "models['DecisionTreeClassifier'] = DecisionTreeClassifier()\r\n",
        "models['LogisticRegression'] = LogisticRegression(max_iter = 480)\r\n",
        "scoring = {\"accuracy\":\"accuracy\", \"f1\": make_scorer(f1_score, average = 'micro')}"
      ],
      "execution_count": 314,
      "outputs": []
    },
    {
      "cell_type": "code",
      "metadata": {
        "colab": {
          "base_uri": "https://localhost:8080/"
        },
        "id": "T-XBtrP9kb6n",
        "outputId": "81b50a31-5d3b-4e56-8a3d-8d7c875e99fa"
      },
      "source": [
        "for model in models:\r\n",
        "  results = cross_validate(models[model],X, y, cv=10,  scoring=scoring , return_train_score=True)\r\n",
        "  print(model + \":\")\r\n",
        "  print(\"Accuracy:\" , 'train: ', results['train_accuracy'].mean(), '| test: ', results['test_accuracy'].mean())\r\n",
        "  print(\"F1-score:\" , 'train: ', results['train_f1'].mean(), '| test: ', results['test_f1'].mean())\r\n",
        "  print(\"---------------------------------------------------------\")"
      ],
      "execution_count": 315,
      "outputs": [
        {
          "output_type": "stream",
          "text": [
            "SVC:\n",
            "Accuracy: train:  0.6622685185185185 | test:  0.4416666666666666\n",
            "F1-score: train:  0.6622685185185185 | test:  0.4416666666666666\n",
            "---------------------------------------------------------\n",
            "DecisionTreeClassifier:\n",
            "Accuracy: train:  1.0 | test:  0.6104166666666666\n",
            "F1-score: train:  1.0 | test:  0.6104166666666666\n",
            "---------------------------------------------------------\n",
            "LogisticRegression:\n",
            "Accuracy: train:  0.787962962962963 | test:  0.7166666666666667\n",
            "F1-score: train:  0.787962962962963 | test:  0.7166666666666666\n",
            "---------------------------------------------------------\n"
          ],
          "name": "stdout"
        }
      ]
    },
    {
      "cell_type": "markdown",
      "metadata": {
        "id": "4zu0bt5HxYuS"
      },
      "source": [
        "As shown in the above result, that the SVC is not good at general. However, DecisionTreeClassifier tent to overfit. And the best model is the LogisticRegression"
      ]
    }
  ]
}